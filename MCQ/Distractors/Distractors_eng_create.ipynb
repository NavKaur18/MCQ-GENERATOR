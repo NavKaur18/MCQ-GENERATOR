{
 "cells": [
  {
   "cell_type": "code",
   "execution_count": 1,
   "id": "0119c636",
   "metadata": {},
   "outputs": [
    {
     "name": "stdout",
     "output_type": "stream",
     "text": [
      "Requirement already satisfied: nltk==3.5.0 in c:\\users\\kaurnavdeep1\\appdata\\local\\programs\\python\\python37\\lib\\site-packages (3.5)\n",
      "Requirement already satisfied: click in c:\\users\\kaurnavdeep1\\appdata\\local\\programs\\python\\python37\\lib\\site-packages (from nltk==3.5.0) (8.0.4)\n",
      "Requirement already satisfied: joblib in c:\\users\\kaurnavdeep1\\appdata\\local\\programs\\python\\python37\\lib\\site-packages (from nltk==3.5.0) (1.1.0)\n",
      "Requirement already satisfied: tqdm in c:\\users\\kaurnavdeep1\\appdata\\local\\programs\\python\\python37\\lib\\site-packages (from nltk==3.5.0) (4.63.0)\n",
      "Requirement already satisfied: regex in c:\\users\\kaurnavdeep1\\appdata\\local\\programs\\python\\python37\\lib\\site-packages (from nltk==3.5.0) (2022.3.2)\n",
      "Requirement already satisfied: colorama in c:\\users\\kaurnavdeep1\\appdata\\local\\programs\\python\\python37\\lib\\site-packages (from click->nltk==3.5.0) (0.4.5)\n",
      "Requirement already satisfied: importlib-metadata in c:\\users\\kaurnavdeep1\\appdata\\local\\programs\\python\\python37\\lib\\site-packages (from click->nltk==3.5.0) (4.8.2)\n",
      "Requirement already satisfied: zipp>=0.5 in c:\\users\\kaurnavdeep1\\appdata\\local\\programs\\python\\python37\\lib\\site-packages (from importlib-metadata->click->nltk==3.5.0) (3.6.0)\n",
      "Requirement already satisfied: typing-extensions>=3.6.4 in c:\\users\\kaurnavdeep1\\appdata\\local\\programs\\python\\python37\\lib\\site-packages (from importlib-metadata->click->nltk==3.5.0) (3.10.0.2)\n"
     ]
    },
    {
     "name": "stderr",
     "output_type": "stream",
     "text": [
      "WARNING: Ignoring invalid distribution -treamlit (c:\\users\\kaurnavdeep1\\appdata\\local\\programs\\python\\python37\\lib\\site-packages)\n",
      "WARNING: Ignoring invalid distribution -treamlit (c:\\users\\kaurnavdeep1\\appdata\\local\\programs\\python\\python37\\lib\\site-packages)\n",
      "WARNING: Ignoring invalid distribution -treamlit (c:\\users\\kaurnavdeep1\\appdata\\local\\programs\\python\\python37\\lib\\site-packages)\n",
      "WARNING: Ignoring invalid distribution -treamlit (c:\\users\\kaurnavdeep1\\appdata\\local\\programs\\python\\python37\\lib\\site-packages)\n",
      "WARNING: Ignoring invalid distribution -treamlit (c:\\users\\kaurnavdeep1\\appdata\\local\\programs\\python\\python37\\lib\\site-packages)\n",
      "WARNING: Ignoring invalid distribution -treamlit (c:\\users\\kaurnavdeep1\\appdata\\local\\programs\\python\\python37\\lib\\site-packages)\n"
     ]
    }
   ],
   "source": [
    "!pip install nltk==3.5.0"
   ]
  },
  {
   "cell_type": "markdown",
   "id": "8dfd40e6",
   "metadata": {},
   "source": [
    "# 2. WordNet"
   ]
  },
  {
   "cell_type": "code",
   "execution_count": 14,
   "id": "f2c670ed",
   "metadata": {},
   "outputs": [
    {
     "name": "stderr",
     "output_type": "stream",
     "text": [
      "[nltk_data] Downloading package wordnet to\n",
      "[nltk_data]     C:\\Users\\kaurnavdeep1\\AppData\\Roaming\\nltk_data...\n",
      "[nltk_data]   Package wordnet is already up-to-date!\n"
     ]
    }
   ],
   "source": [
    "# Import wordnet\n",
    "import nltk\n",
    "nltk.download('wordnet')\n",
    "from nltk.corpus import wordnet as wn"
   ]
  },
  {
   "cell_type": "code",
   "execution_count": 13,
   "id": "3886ed16",
   "metadata": {},
   "outputs": [
    {
     "name": "stdout",
     "output_type": "stream",
     "text": [
      "Original Word :  lion\n",
      "Distractors Calculated :  ['Cheetah', 'Jaguar', 'Leopard', 'Liger', 'Saber-toothed Tiger', 'Snow Leopard', 'Tiger', 'Tiglon']\n"
     ]
    }
   ],
   "source": [
    "# Get all distractors for the word “lion”. Here we are extracting the first sense of the word Lion and extracting co-hyponyms of the word lion as distractors.\n",
    "\n",
    "# Distractors from Wordnet\n",
    "def get_distractors_wordnet(syn,word):\n",
    "    distractors=[]\n",
    "    word= word.lower()\n",
    "    orig_word = word\n",
    "    if len(word.split())>0:\n",
    "        word = word.replace(\" \",\"_\")`\n",
    "    hypernym = syn.hypernyms()\n",
    "    if len(hypernym) == 0: \n",
    "        return distractors\n",
    "    for item in hypernym[0].hyponyms():\n",
    "        name = item.lemmas()[0].name()\n",
    "#         print (\"name \",name, \" word\",orig_word)\n",
    "        if name == orig_word:\n",
    "            continue\n",
    "        name = name.replace(\"_\",\" \")\n",
    "        name = \" \".join(w.capitalize() for w in name.split())\n",
    "        if name is not None and name not in distractors:\n",
    "            distractors.append(name)\n",
    "    return distractors\n",
    "original_word = \"lion\"\n",
    "synset_to_use = wn.synsets(original_word,'n')[0]\n",
    "distractors_calculated = get_distractors_wordnet(synset_to_use,original_word)\n",
    "\n",
    "print('Original Word : ', original_word)\n",
    "print('Distractors Calculated : ',distractors_calculated)\n"
   ]
  },
  {
   "cell_type": "code",
   "execution_count": 10,
   "id": "faeb2e41",
   "metadata": {},
   "outputs": [
    {
     "name": "stdout",
     "output_type": "stream",
     "text": [
      "Synset('cricket.n.01') :  leaping insect; male makes chirping noises by rubbing the forewings together \n",
      "\n",
      "Synset('cricket.n.02') :  a game played with a ball and bat by two teams of 11 players; teams take turns trying to score runs \n",
      "\n",
      "\n",
      "original word:  Cricket\n",
      "['Grasshopper']\n",
      "\n",
      "original word:  Cricket\n",
      "['Ball Game', 'Field Hockey', 'Football', 'Hurling', 'Lacrosse', 'Polo', 'Pushball', 'Ultimate Frisbee']\n"
     ]
    }
   ],
   "source": [
    "# Similarly, for the word cricket, which has two senses (one for insect and one for the game) we get different distractors for each depending on which sense we use.\n",
    "\n",
    "#  An example of a word with two different senses\n",
    "original_word = \"cricket\"\n",
    "syns = wn.synsets(original_word,'n')\n",
    "for syn in syns:\n",
    "  print (syn, \": \",syn.definition(),\"\\n\" )\n",
    "synset_to_use = wn.synsets(original_word,'n')[0]\n",
    "distractors_calculated = get_distractors_wordnet(synset_to_use,original_word)\n",
    "print (\"\\noriginal word: \",original_word.capitalize())\n",
    "print (distractors_calculated)\n",
    "original_word = \"cricket\"\n",
    "synset_to_use = wn.synsets(original_word,'n')[1]\n",
    "distractors_calculated = get_distractors_wordnet(synset_to_use,original_word)\n",
    "print (\"\\noriginal word: \",original_word.capitalize())\n",
    "print (distractors_calculated)"
   ]
  },
  {
   "cell_type": "markdown",
   "id": "8054c6a9",
   "metadata": {},
   "source": [
    "# 2. ConceptNet"
   ]
  },
  {
   "cell_type": "code",
   "execution_count": 16,
   "id": "9a36b584",
   "metadata": {},
   "outputs": [],
   "source": [
    "import requests\n",
    "import json\n",
    "import re\n",
    "import random\n",
    "import pprint\n"
   ]
  },
  {
   "cell_type": "code",
   "execution_count": 32,
   "id": "ef5d6b95",
   "metadata": {},
   "outputs": [
    {
     "name": "stdout",
     "output_type": "stream",
     "text": [
      "Original word:  Contract\n",
      "\n",
      "Distractors:  ['slam', 'ruff', 'nasal', 'arch', 'bid', 'trestle', 'pilothouse', 'pier', 'A suspension cable']\n"
     ]
    }
   ],
   "source": [
    "# Distractors from http://conceptnet.io/\n",
    "def get_distractors_conceptnet(word):\n",
    "    word = word.lower()\n",
    "    original_word= word\n",
    "    if (len(word.split())>0):\n",
    "        word = word.replace(\" \",\"_\")\n",
    "    distractor_list = [] \n",
    "    url = \"http://api.conceptnet.io/query?node=/c/en/%s/n&rel=/r/PartOf&start=/c/en/%s&limit=5\"%(word,word)\n",
    "    obj = requests.get(url).json()\n",
    "\n",
    "    for edge in obj['edges']:\n",
    "        link = edge['end']['term'] \n",
    "\n",
    "        url2 = \"http://api.conceptnet.io/query?node=%s&rel=/r/PartOf&end=%s&limit=10\"%(link,link)\n",
    "        obj2 = requests.get(url2).json()\n",
    "        for edge in obj2['edges']:\n",
    "            word2 = edge['start']['label']\n",
    "            if word2 not in distractor_list and original_word.lower() not in word2.lower():\n",
    "                distractor_list.append(word2)\n",
    "                   \n",
    "    return distractor_list\n",
    "\n",
    "original_word = \"Contract\"\n",
    "distractors = get_distractors_conceptnet(original_word)\n",
    "\n",
    "print (\"Original word: \",original_word)\n",
    "print (\"\\nDistractors: \",distractors)"
   ]
  },
  {
   "cell_type": "markdown",
   "id": "8aad7a50",
   "metadata": {},
   "source": [
    "# 3. Sense2vec "
   ]
  },
  {
   "cell_type": "code",
   "execution_count": 19,
   "id": "db827d15",
   "metadata": {},
   "outputs": [
    {
     "name": "stdout",
     "output_type": "stream",
     "text": [
      "Collecting sense2vec==1.0.2"
     ]
    },
    {
     "name": "stderr",
     "output_type": "stream",
     "text": [
      "WARNING: Ignoring invalid distribution -treamlit (c:\\users\\kaurnavdeep1\\appdata\\local\\programs\\python\\python37\\lib\\site-packages)\n",
      "WARNING: Ignoring invalid distribution -treamlit (c:\\users\\kaurnavdeep1\\appdata\\local\\programs\\python\\python37\\lib\\site-packages)\n",
      "WARNING: Ignoring invalid distribution -treamlit (c:\\users\\kaurnavdeep1\\appdata\\local\\programs\\python\\python37\\lib\\site-packages)\n",
      "    WARNING: Ignoring invalid distribution -treamlit (c:\\users\\kaurnavdeep1\\appdata\\local\\programs\\python\\python37\\lib\\site-packages)\n",
      "    WARNING: Ignoring invalid distribution -treamlit (c:\\users\\kaurnavdeep1\\appdata\\local\\programs\\python\\python37\\lib\\site-packages)\n",
      "WARNING: Ignoring invalid distribution -treamlit (c:\\users\\kaurnavdeep1\\appdata\\local\\programs\\python\\python37\\lib\\site-packages)\n",
      "WARNING: Ignoring invalid distribution -treamlit (c:\\users\\kaurnavdeep1\\appdata\\local\\programs\\python\\python37\\lib\\site-packages)\n",
      "WARNING: Ignoring invalid distribution -treamlit (c:\\users\\kaurnavdeep1\\appdata\\local\\programs\\python\\python37\\lib\\site-packages)\n",
      "ERROR: pip's dependency resolver does not currently take into account all the packages that are installed. This behaviour is the source of the following dependency conflicts.\n",
      "pke 2.0.0 requires spacy>=3.2.3, but you have spacy 2.3.7 which is incompatible.\n",
      "en-core-web-sm 3.2.0 requires spacy<3.3.0,>=3.2.0, but you have spacy 2.3.7 which is incompatible.\n",
      "WARNING: Ignoring invalid distribution -treamlit (c:\\users\\kaurnavdeep1\\appdata\\local\\programs\\python\\python37\\lib\\site-packages)\n",
      "WARNING: Ignoring invalid distribution -treamlit (c:\\users\\kaurnavdeep1\\appdata\\local\\programs\\python\\python37\\lib\\site-packages)\n",
      "WARNING: Ignoring invalid distribution -treamlit (c:\\users\\kaurnavdeep1\\appdata\\local\\programs\\python\\python37\\lib\\site-packages)\n"
     ]
    },
    {
     "name": "stdout",
     "output_type": "stream",
     "text": [
      "\n",
      "  Downloading sense2vec-1.0.2.tar.gz (54 kB)\n",
      "     ---------------------------------------- 54.7/54.7 kB 1.4 MB/s eta 0:00:00\n",
      "  Preparing metadata (setup.py): started\n",
      "  Preparing metadata (setup.py): finished with status 'done'\n",
      "Collecting spacy<3.0.0,>=2.2.3\n",
      "  Downloading spacy-2.3.7-cp37-cp37m-win_amd64.whl (9.6 MB)\n",
      "     ---------------------------------------- 9.6/9.6 MB 7.5 MB/s eta 0:00:00\n",
      "Requirement already satisfied: srsly>=0.2.0 in c:\\users\\kaurnavdeep1\\appdata\\local\\programs\\python\\python37\\lib\\site-packages (from sense2vec==1.0.2) (1.0.5)\n",
      "Requirement already satisfied: catalogue>=0.0.4 in c:\\users\\kaurnavdeep1\\appdata\\local\\programs\\python\\python37\\lib\\site-packages (from sense2vec==1.0.2) (2.0.7)\n",
      "Requirement already satisfied: wasabi<1.1.0,>=0.4.0 in c:\\users\\kaurnavdeep1\\appdata\\local\\programs\\python\\python37\\lib\\site-packages (from sense2vec==1.0.2) (0.9.1)\n",
      "Requirement already satisfied: numpy>=1.15.0 in c:\\users\\kaurnavdeep1\\appdata\\local\\programs\\python\\python37\\lib\\site-packages (from sense2vec==1.0.2) (1.21.3)\n",
      "Requirement already satisfied: importlib_metadata>=0.20 in c:\\users\\kaurnavdeep1\\appdata\\local\\programs\\python\\python37\\lib\\site-packages (from sense2vec==1.0.2) (4.8.2)\n",
      "Requirement already satisfied: typing-extensions>=3.6.4 in c:\\users\\kaurnavdeep1\\appdata\\local\\programs\\python\\python37\\lib\\site-packages (from catalogue>=0.0.4->sense2vec==1.0.2) (3.10.0.2)\n",
      "Requirement already satisfied: zipp>=0.5 in c:\\users\\kaurnavdeep1\\appdata\\local\\programs\\python\\python37\\lib\\site-packages (from catalogue>=0.0.4->sense2vec==1.0.2) (3.6.0)\n",
      "Requirement already satisfied: thinc<7.5.0,>=7.4.1 in c:\\users\\kaurnavdeep1\\appdata\\local\\programs\\python\\python37\\lib\\site-packages (from spacy<3.0.0,>=2.2.3->sense2vec==1.0.2) (7.4.1)\n",
      "Requirement already satisfied: cymem<2.1.0,>=2.0.2 in c:\\users\\kaurnavdeep1\\appdata\\local\\programs\\python\\python37\\lib\\site-packages (from spacy<3.0.0,>=2.2.3->sense2vec==1.0.2) (2.0.6)\n",
      "Requirement already satisfied: murmurhash<1.1.0,>=0.28.0 in c:\\users\\kaurnavdeep1\\appdata\\local\\programs\\python\\python37\\lib\\site-packages (from spacy<3.0.0,>=2.2.3->sense2vec==1.0.2) (1.0.6)\n",
      "Requirement already satisfied: requests<3.0.0,>=2.13.0 in c:\\users\\kaurnavdeep1\\appdata\\local\\programs\\python\\python37\\lib\\site-packages (from spacy<3.0.0,>=2.2.3->sense2vec==1.0.2) (2.28.1)\n",
      "Requirement already satisfied: preshed<3.1.0,>=3.0.2 in c:\\users\\kaurnavdeep1\\appdata\\local\\programs\\python\\python37\\lib\\site-packages (from spacy<3.0.0,>=2.2.3->sense2vec==1.0.2) (3.0.6)\n",
      "Collecting catalogue>=0.0.4\n",
      "  Using cached catalogue-1.0.0-py2.py3-none-any.whl (7.7 kB)\n",
      "Requirement already satisfied: setuptools in c:\\users\\kaurnavdeep1\\appdata\\local\\programs\\python\\python37\\lib\\site-packages (from spacy<3.0.0,>=2.2.3->sense2vec==1.0.2) (63.2.0)\n",
      "Requirement already satisfied: plac<1.2.0,>=0.9.6 in c:\\users\\kaurnavdeep1\\appdata\\local\\programs\\python\\python37\\lib\\site-packages (from spacy<3.0.0,>=2.2.3->sense2vec==1.0.2) (1.1.3)\n",
      "Requirement already satisfied: tqdm<5.0.0,>=4.38.0 in c:\\users\\kaurnavdeep1\\appdata\\local\\programs\\python\\python37\\lib\\site-packages (from spacy<3.0.0,>=2.2.3->sense2vec==1.0.2) (4.63.0)\n",
      "Requirement already satisfied: blis<0.8.0,>=0.4.0 in c:\\users\\kaurnavdeep1\\appdata\\local\\programs\\python\\python37\\lib\\site-packages (from spacy<3.0.0,>=2.2.3->sense2vec==1.0.2) (0.4.1)\n",
      "Requirement already satisfied: certifi>=2017.4.17 in c:\\users\\kaurnavdeep1\\appdata\\local\\programs\\python\\python37\\lib\\site-packages (from requests<3.0.0,>=2.13.0->spacy<3.0.0,>=2.2.3->sense2vec==1.0.2) (2021.10.8)\n",
      "Requirement already satisfied: urllib3<1.27,>=1.21.1 in c:\\users\\kaurnavdeep1\\appdata\\local\\programs\\python\\python37\\lib\\site-packages (from requests<3.0.0,>=2.13.0->spacy<3.0.0,>=2.2.3->sense2vec==1.0.2) (1.25.11)\n",
      "Requirement already satisfied: idna<4,>=2.5 in c:\\users\\kaurnavdeep1\\appdata\\local\\programs\\python\\python37\\lib\\site-packages (from requests<3.0.0,>=2.13.0->spacy<3.0.0,>=2.2.3->sense2vec==1.0.2) (2.10)\n",
      "Requirement already satisfied: charset-normalizer<3,>=2 in c:\\users\\kaurnavdeep1\\appdata\\local\\programs\\python\\python37\\lib\\site-packages (from requests<3.0.0,>=2.13.0->spacy<3.0.0,>=2.2.3->sense2vec==1.0.2) (2.0.12)\n",
      "Requirement already satisfied: colorama in c:\\users\\kaurnavdeep1\\appdata\\local\\programs\\python\\python37\\lib\\site-packages (from tqdm<5.0.0,>=4.38.0->spacy<3.0.0,>=2.2.3->sense2vec==1.0.2) (0.4.5)\n",
      "Building wheels for collected packages: sense2vec\n",
      "  Building wheel for sense2vec (setup.py): started\n",
      "  Building wheel for sense2vec (setup.py): finished with status 'done'\n",
      "  Created wheel for sense2vec: filename=sense2vec-1.0.2-py2.py3-none-any.whl size=34994 sha256=187f76f65ac42fad03aa724b43b52e0892706135a6ca42d9ced6d0603c374565\n",
      "  Stored in directory: c:\\users\\kaurnavdeep1\\appdata\\local\\pip\\cache\\wheels\\cf\\d3\\93\\fe8e871b410c5456a7b06be0f154ad6bab298462471551f39d\n",
      "Successfully built sense2vec\n",
      "Installing collected packages: catalogue, spacy, sense2vec\n",
      "  Attempting uninstall: catalogue\n",
      "    Found existing installation: catalogue 2.0.7\n",
      "    Uninstalling catalogue-2.0.7:\n",
      "      Successfully uninstalled catalogue-2.0.7\n",
      "  Attempting uninstall: spacy\n",
      "    Found existing installation: spacy 3.2.4\n",
      "    Uninstalling spacy-3.2.4:\n",
      "      Successfully uninstalled spacy-3.2.4\n",
      "Successfully installed catalogue-1.0.0 sense2vec-1.0.2 spacy-2.3.7\n"
     ]
    }
   ],
   "source": [
    "!pip install sense2vec==1.0.2"
   ]
  },
  {
   "cell_type": "code",
   "execution_count": 24,
   "id": "6391be7a",
   "metadata": {},
   "outputs": [
    {
     "name": "stderr",
     "output_type": "stream",
     "text": [
      "WARNING: Ignoring invalid distribution -treamlit (c:\\users\\kaurnavdeep1\\appdata\\local\\programs\\python\\python37\\lib\\site-packages)\n",
      "WARNING: Ignoring invalid distribution -treamlit (c:\\users\\kaurnavdeep1\\appdata\\local\\programs\\python\\python37\\lib\\site-packages)\n",
      "WARNING: Ignoring invalid distribution -treamlit (c:\\users\\kaurnavdeep1\\appdata\\local\\programs\\python\\python37\\lib\\site-packages)\n",
      "    WARNING: Ignoring invalid distribution -treamlit (c:\\users\\kaurnavdeep1\\appdata\\local\\programs\\python\\python37\\lib\\site-packages)\n",
      "WARNING: Ignoring invalid distribution -treamlit (c:\\users\\kaurnavdeep1\\appdata\\local\\programs\\python\\python37\\lib\\site-packages)\n",
      "WARNING: Ignoring invalid distribution -treamlit (c:\\users\\kaurnavdeep1\\appdata\\local\\programs\\python\\python37\\lib\\site-packages)\n",
      "WARNING: Ignoring invalid distribution -treamlit (c:\\users\\kaurnavdeep1\\appdata\\local\\programs\\python\\python37\\lib\\site-packages)\n",
      "WARNING: Ignoring invalid distribution -treamlit (c:\\users\\kaurnavdeep1\\appdata\\local\\programs\\python\\python37\\lib\\site-packages)\n",
      "'wget' is not recognized as an internal or external command,\n",
      "operable program or batch file.\n",
      "tar: Error opening archive: Failed to open 's2v_reddit_2015_md.tar.gz'\n",
      "'ls' is not recognized as an internal or external command,\n",
      "operable program or batch file.\n"
     ]
    },
    {
     "ename": "ValueError",
     "evalue": "Can't read file: s2v_old\\cfg",
     "output_type": "error",
     "traceback": [
      "\u001b[1;31m---------------------------------------------------------------------------\u001b[0m",
      "\u001b[1;31mValueError\u001b[0m                                Traceback (most recent call last)",
      "\u001b[1;32mC:\\Users\\KAURNA~1\\AppData\\Local\\Temp/ipykernel_16836/1282920004.py\u001b[0m in \u001b[0;36m<module>\u001b[1;34m\u001b[0m\n\u001b[0;32m      6\u001b[0m \u001b[1;31m# load sense2vec vectors\u001b[0m\u001b[1;33m\u001b[0m\u001b[1;33m\u001b[0m\u001b[1;33m\u001b[0m\u001b[0m\n\u001b[0;32m      7\u001b[0m \u001b[1;32mfrom\u001b[0m \u001b[0msense2vec\u001b[0m \u001b[1;32mimport\u001b[0m \u001b[0mSense2Vec\u001b[0m\u001b[1;33m\u001b[0m\u001b[1;33m\u001b[0m\u001b[0m\n\u001b[1;32m----> 8\u001b[1;33m \u001b[0ms2v\u001b[0m \u001b[1;33m=\u001b[0m \u001b[0mSense2Vec\u001b[0m\u001b[1;33m(\u001b[0m\u001b[1;33m)\u001b[0m\u001b[1;33m.\u001b[0m\u001b[0mfrom_disk\u001b[0m\u001b[1;33m(\u001b[0m\u001b[1;34m's2v_old'\u001b[0m\u001b[1;33m)\u001b[0m\u001b[1;33m\u001b[0m\u001b[1;33m\u001b[0m\u001b[0m\n\u001b[0m",
      "\u001b[1;32mc:\\users\\kaurnavdeep1\\appdata\\local\\programs\\python\\python37\\lib\\site-packages\\sense2vec\\sense2vec.py\u001b[0m in \u001b[0;36mfrom_disk\u001b[1;34m(self, path, exclude)\u001b[0m\n\u001b[0;32m    343\u001b[0m         \u001b[1;32mif\u001b[0m \u001b[0mfreqs_path\u001b[0m\u001b[1;33m.\u001b[0m\u001b[0mexists\u001b[0m\u001b[1;33m(\u001b[0m\u001b[1;33m)\u001b[0m\u001b[1;33m:\u001b[0m\u001b[1;33m\u001b[0m\u001b[1;33m\u001b[0m\u001b[0m\n\u001b[0;32m    344\u001b[0m             \u001b[0mself\u001b[0m\u001b[1;33m.\u001b[0m\u001b[0mfreqs\u001b[0m \u001b[1;33m=\u001b[0m \u001b[0mdict\u001b[0m\u001b[1;33m(\u001b[0m\u001b[0msrsly\u001b[0m\u001b[1;33m.\u001b[0m\u001b[0mread_json\u001b[0m\u001b[1;33m(\u001b[0m\u001b[0mfreqs_path\u001b[0m\u001b[1;33m)\u001b[0m\u001b[1;33m)\u001b[0m\u001b[1;33m\u001b[0m\u001b[1;33m\u001b[0m\u001b[0m\n\u001b[1;32m--> 345\u001b[1;33m         \u001b[1;32mif\u001b[0m \u001b[1;34m\"strings\"\u001b[0m \u001b[1;32mnot\u001b[0m \u001b[1;32min\u001b[0m \u001b[0mexclude\u001b[0m \u001b[1;32mand\u001b[0m \u001b[0mstrings_path\u001b[0m\u001b[1;33m.\u001b[0m\u001b[0mexists\u001b[0m\u001b[1;33m(\u001b[0m\u001b[1;33m)\u001b[0m\u001b[1;33m:\u001b[0m\u001b[1;33m\u001b[0m\u001b[1;33m\u001b[0m\u001b[0m\n\u001b[0m\u001b[0;32m    346\u001b[0m             \u001b[0mself\u001b[0m\u001b[1;33m.\u001b[0m\u001b[0mstrings\u001b[0m \u001b[1;33m=\u001b[0m \u001b[0mStringStore\u001b[0m\u001b[1;33m(\u001b[0m\u001b[1;33m)\u001b[0m\u001b[1;33m.\u001b[0m\u001b[0mfrom_disk\u001b[0m\u001b[1;33m(\u001b[0m\u001b[0mstrings_path\u001b[0m\u001b[1;33m)\u001b[0m\u001b[1;33m\u001b[0m\u001b[1;33m\u001b[0m\u001b[0m\n\u001b[0;32m    347\u001b[0m         \u001b[1;32mif\u001b[0m \u001b[1;34m\"cache\"\u001b[0m \u001b[1;32mnot\u001b[0m \u001b[1;32min\u001b[0m \u001b[0mexclude\u001b[0m \u001b[1;32mand\u001b[0m \u001b[0mcache_path\u001b[0m\u001b[1;33m.\u001b[0m\u001b[0mexists\u001b[0m\u001b[1;33m(\u001b[0m\u001b[1;33m)\u001b[0m\u001b[1;33m:\u001b[0m\u001b[1;33m\u001b[0m\u001b[1;33m\u001b[0m\u001b[0m\n",
      "\u001b[1;32mc:\\users\\kaurnavdeep1\\appdata\\local\\programs\\python\\python37\\lib\\site-packages\\srsly\\_json_api.py\u001b[0m in \u001b[0;36mread_json\u001b[1;34m(location)\u001b[0m\n\u001b[0;32m     48\u001b[0m         \u001b[0mdata\u001b[0m \u001b[1;33m=\u001b[0m \u001b[0msys\u001b[0m\u001b[1;33m.\u001b[0m\u001b[0mstdin\u001b[0m\u001b[1;33m.\u001b[0m\u001b[0mread\u001b[0m\u001b[1;33m(\u001b[0m\u001b[1;33m)\u001b[0m\u001b[1;33m\u001b[0m\u001b[1;33m\u001b[0m\u001b[0m\n\u001b[0;32m     49\u001b[0m         \u001b[1;32mreturn\u001b[0m \u001b[0mujson\u001b[0m\u001b[1;33m.\u001b[0m\u001b[0mloads\u001b[0m\u001b[1;33m(\u001b[0m\u001b[0mdata\u001b[0m\u001b[1;33m)\u001b[0m\u001b[1;33m\u001b[0m\u001b[1;33m\u001b[0m\u001b[0m\n\u001b[1;32m---> 50\u001b[1;33m     \u001b[0mfile_path\u001b[0m \u001b[1;33m=\u001b[0m \u001b[0mforce_path\u001b[0m\u001b[1;33m(\u001b[0m\u001b[0mlocation\u001b[0m\u001b[1;33m)\u001b[0m\u001b[1;33m\u001b[0m\u001b[1;33m\u001b[0m\u001b[0m\n\u001b[0m\u001b[0;32m     51\u001b[0m     \u001b[1;32mwith\u001b[0m \u001b[0mfile_path\u001b[0m\u001b[1;33m.\u001b[0m\u001b[0mopen\u001b[0m\u001b[1;33m(\u001b[0m\u001b[1;34m\"r\"\u001b[0m\u001b[1;33m,\u001b[0m \u001b[0mencoding\u001b[0m\u001b[1;33m=\u001b[0m\u001b[1;34m\"utf8\"\u001b[0m\u001b[1;33m)\u001b[0m \u001b[1;32mas\u001b[0m \u001b[0mf\u001b[0m\u001b[1;33m:\u001b[0m\u001b[1;33m\u001b[0m\u001b[1;33m\u001b[0m\u001b[0m\n\u001b[0;32m     52\u001b[0m         \u001b[1;32mreturn\u001b[0m \u001b[0mujson\u001b[0m\u001b[1;33m.\u001b[0m\u001b[0mload\u001b[0m\u001b[1;33m(\u001b[0m\u001b[0mf\u001b[0m\u001b[1;33m)\u001b[0m\u001b[1;33m\u001b[0m\u001b[1;33m\u001b[0m\u001b[0m\n",
      "\u001b[1;32mc:\\users\\kaurnavdeep1\\appdata\\local\\programs\\python\\python37\\lib\\site-packages\\srsly\\util.py\u001b[0m in \u001b[0;36mforce_path\u001b[1;34m(location, require_exists)\u001b[0m\n\u001b[0;32m     19\u001b[0m         \u001b[0mlocation\u001b[0m \u001b[1;33m=\u001b[0m \u001b[0mPath\u001b[0m\u001b[1;33m(\u001b[0m\u001b[0mlocation\u001b[0m\u001b[1;33m)\u001b[0m\u001b[1;33m\u001b[0m\u001b[1;33m\u001b[0m\u001b[0m\n\u001b[0;32m     20\u001b[0m     \u001b[1;32mif\u001b[0m \u001b[0mrequire_exists\u001b[0m \u001b[1;32mand\u001b[0m \u001b[1;32mnot\u001b[0m \u001b[0mlocation\u001b[0m\u001b[1;33m.\u001b[0m\u001b[0mexists\u001b[0m\u001b[1;33m(\u001b[0m\u001b[1;33m)\u001b[0m\u001b[1;33m:\u001b[0m\u001b[1;33m\u001b[0m\u001b[1;33m\u001b[0m\u001b[0m\n\u001b[1;32m---> 21\u001b[1;33m         \u001b[1;32mraise\u001b[0m \u001b[0mValueError\u001b[0m\u001b[1;33m(\u001b[0m\u001b[1;34m\"Can't read file: {}\"\u001b[0m\u001b[1;33m.\u001b[0m\u001b[0mformat\u001b[0m\u001b[1;33m(\u001b[0m\u001b[0mlocation\u001b[0m\u001b[1;33m)\u001b[0m\u001b[1;33m)\u001b[0m\u001b[1;33m\u001b[0m\u001b[1;33m\u001b[0m\u001b[0m\n\u001b[0m\u001b[0;32m     22\u001b[0m     \u001b[1;32mreturn\u001b[0m \u001b[0mlocation\u001b[0m\u001b[1;33m\u001b[0m\u001b[1;33m\u001b[0m\u001b[0m\n\u001b[0;32m     23\u001b[0m \u001b[1;33m\u001b[0m\u001b[0m\n",
      "\u001b[1;31mValueError\u001b[0m: Can't read file: s2v_old\\cfg"
     ]
    }
   ],
   "source": [
    "!pip install --quiet sense2vec==1.0.3\n",
    "!wget https://github.com/explosion/sense2vec/releases/download/v1.0.0/s2v_reddit_2015_md.tar.gz\n",
    "!tar -xvf  s2v_reddit_2015_md.tar.gz\n",
    "!ls s2v_old\n",
    "\n",
    "# load sense2vec vectors\n",
    "from sense2vec import Sense2Vec\n",
    "s2v = Sense2Vec().from_disk('s2v_old')"
   ]
  },
  {
   "cell_type": "code",
   "execution_count": null,
   "id": "33f74e4d",
   "metadata": {},
   "outputs": [],
   "source": []
  }
 ],
 "metadata": {
  "kernelspec": {
   "display_name": "Python 3 (ipykernel)",
   "language": "python",
   "name": "python3"
  },
  "language_info": {
   "codemirror_mode": {
    "name": "ipython",
    "version": 3
   },
   "file_extension": ".py",
   "mimetype": "text/x-python",
   "name": "python",
   "nbconvert_exporter": "python",
   "pygments_lexer": "ipython3",
   "version": "3.7.6"
  }
 },
 "nbformat": 4,
 "nbformat_minor": 5
}
