{
 "cells": [
  {
   "cell_type": "code",
   "execution_count": 1,
   "id": "1794016a",
   "metadata": {},
   "outputs": [
    {
     "name": "stdout",
     "output_type": "stream",
     "text": [
      "Requirement already satisfied: nltk==3.5.0 in c:\\users\\kaurnavdeep1\\appdata\\local\\programs\\python\\python37\\lib\\site-packages (3.5)\n",
      "Requirement already satisfied: tqdm in c:\\users\\kaurnavdeep1\\appdata\\local\\programs\\python\\python37\\lib\\site-packages (from nltk==3.5.0) (4.63.0)\n",
      "Requirement already satisfied: click in c:\\users\\kaurnavdeep1\\appdata\\local\\programs\\python\\python37\\lib\\site-packages (from nltk==3.5.0) (8.0.4)\n",
      "Requirement already satisfied: joblib in c:\\users\\kaurnavdeep1\\appdata\\local\\programs\\python\\python37\\lib\\site-packages (from nltk==3.5.0) (1.1.0)\n",
      "Requirement already satisfied: regex in c:\\users\\kaurnavdeep1\\appdata\\local\\programs\\python\\python37\\lib\\site-packages (from nltk==3.5.0) (2022.3.2)\n",
      "Requirement already satisfied: importlib-metadata in c:\\users\\kaurnavdeep1\\appdata\\local\\programs\\python\\python37\\lib\\site-packages (from click->nltk==3.5.0) (4.8.2)\n",
      "Requirement already satisfied: colorama in c:\\users\\kaurnavdeep1\\appdata\\local\\programs\\python\\python37\\lib\\site-packages (from click->nltk==3.5.0) (0.4.5)\n",
      "Requirement already satisfied: zipp>=0.5 in c:\\users\\kaurnavdeep1\\appdata\\local\\programs\\python\\python37\\lib\\site-packages (from importlib-metadata->click->nltk==3.5.0) (3.6.0)\n",
      "Requirement already satisfied: typing-extensions>=3.6.4 in c:\\users\\kaurnavdeep1\\appdata\\local\\programs\\python\\python37\\lib\\site-packages (from importlib-metadata->click->nltk==3.5.0) (3.10.0.2)\n"
     ]
    },
    {
     "name": "stderr",
     "output_type": "stream",
     "text": [
      "WARNING: Ignoring invalid distribution -treamlit (c:\\users\\kaurnavdeep1\\appdata\\local\\programs\\python\\python37\\lib\\site-packages)\n",
      "WARNING: Ignoring invalid distribution -treamlit (c:\\users\\kaurnavdeep1\\appdata\\local\\programs\\python\\python37\\lib\\site-packages)\n",
      "WARNING: Ignoring invalid distribution -treamlit (c:\\users\\kaurnavdeep1\\appdata\\local\\programs\\python\\python37\\lib\\site-packages)\n",
      "WARNING: Ignoring invalid distribution -treamlit (c:\\users\\kaurnavdeep1\\appdata\\local\\programs\\python\\python37\\lib\\site-packages)\n",
      "WARNING: Ignoring invalid distribution -treamlit (c:\\users\\kaurnavdeep1\\appdata\\local\\programs\\python\\python37\\lib\\site-packages)\n",
      "WARNING: Ignoring invalid distribution -treamlit (c:\\users\\kaurnavdeep1\\appdata\\local\\programs\\python\\python37\\lib\\site-packages)\n"
     ]
    }
   ],
   "source": [
    "!pip install nltk==3.5.0"
   ]
  },
  {
   "cell_type": "code",
   "execution_count": 2,
   "id": "46be5898",
   "metadata": {},
   "outputs": [
    {
     "name": "stderr",
     "output_type": "stream",
     "text": [
      "[nltk_data] Downloading package wordnet to\n",
      "[nltk_data]     C:\\Users\\kaurnavdeep1\\AppData\\Roaming\\nltk_data...\n",
      "[nltk_data]   Package wordnet is already up-to-date!\n"
     ]
    }
   ],
   "source": [
    "# Import wordnet\n",
    "import nltk\n",
    "nltk.download('wordnet')\n",
    "from nltk.corpus import wordnet as wn"
   ]
  },
  {
   "cell_type": "code",
   "execution_count": 15,
   "id": "d1ebd831",
   "metadata": {},
   "outputs": [
    {
     "name": "stdout",
     "output_type": "stream",
     "text": [
      "Original Word :  relationship\n",
      "Distractors Calculated :  ['Affinity', 'Association', 'Business Relation', 'Causality', 'Change', 'Comparison', 'Connection', 'Control', 'Foundation', 'Function', 'Interrelation', 'Kinship', 'Linguistic Relation', 'Logical Relation', 'Magnitude Relation', 'Mathematical Relation', 'Opposition', 'Ownership', 'Part', 'Position', 'Possession', 'Reciprocality', 'Social Relation', 'Temporal Relation', 'Unconnectedness']\n"
     ]
    }
   ],
   "source": [
    "def get_distractors_wordnet(syn,word):\n",
    "    distractors=[]\n",
    "    word= word.lower()\n",
    "    orig_word = word\n",
    "    if len(word.split())>0:\n",
    "        word = word.replace(\" \",\"_\")\n",
    "    hypernym = syn.hypernyms()\n",
    "    if len(hypernym) == 0: \n",
    "        return distractors\n",
    "    for item in hypernym[0].hyponyms():\n",
    "        name = item.lemmas()[0].name()\n",
    "#         print (\"name \",name, \" word\",orig_word)\n",
    "        if name == orig_word:\n",
    "            continue\n",
    "        name = name.replace(\"_\",\" \")\n",
    "        name = \" \".join(w.capitalize() for w in name.split())\n",
    "        if name is not None and name not in distractors:\n",
    "            distractors.append(name)\n",
    "    return distractors\n",
    "original_word = \"relationship\"\n",
    "synset_to_use = wn.synsets(original_word,'n')[0]\n",
    "distractors_calculated = get_distractors_wordnet(synset_to_use,original_word)\n",
    "\n",
    "print('Original Word : ', original_word)\n",
    "print('Distractors Calculated : ',distractors_calculated)"
   ]
  },
  {
   "cell_type": "code",
   "execution_count": 24,
   "id": "5df7b2c6",
   "metadata": {},
   "outputs": [
    {
     "name": "stdout",
     "output_type": "stream",
     "text": [
      "Collecting tfkit==0.7.21\n",
      "  Downloading tfkit-0.7.21-py3-none-any.whl (78 kB)\n",
      "     ---------------------------------------- 78.8/78.8 kB 2.2 MB/s eta 0:00:00\n",
      "Collecting nlp2go==0.4.12\n",
      "  Downloading nlp2go-0.4.12-py3-none-any.whl (14 kB)\n",
      "Requirement already satisfied: sklearn in c:\\users\\kaurnavdeep1\\appdata\\local\\programs\\python\\python37\\lib\\site-packages (from tfkit==0.7.21) (0.0)\n",
      "Collecting transformers>=3.3.0\n",
      "  Downloading transformers-4.21.0-py3-none-any.whl (4.7 MB)\n",
      "     ---------------------------------------- 4.7/4.7 MB 2.3 MB/s eta 0:00:00\n",
      "Requirement already satisfied: tqdm>=4.45.0 in c:\\users\\kaurnavdeep1\\appdata\\local\\programs\\python\\python37\\lib\\site-packages (from tfkit==0.7.21) (4.63.0)\n",
      "Collecting nlp2>=1.8.32\n",
      "  Downloading nlp2-1.8.47-py3-none-any.whl (24 kB)\n",
      "Collecting inquirer\n",
      "  Downloading inquirer-2.10.0-py3-none-any.whl (17 kB)\n",
      "Requirement already satisfied: sentencepiece in c:\\users\\kaurnavdeep1\\appdata\\local\\programs\\python\\python37\\lib\\site-packages (from tfkit==0.7.21) (0.1.96)\n",
      "Requirement already satisfied: torch in c:\\users\\kaurnavdeep1\\appdata\\local\\programs\\python\\python37\\lib\\site-packages (from tfkit==0.7.21) (1.12.0)\n",
      "Collecting tensorboardX\n",
      "  Downloading tensorboardX-2.5.1-py2.py3-none-any.whl (125 kB)\n",
      "     ------------------------------------ 125.4/125.4 kB 920.9 kB/s eta 0:00:00\n",
      "Requirement already satisfied: numpy in c:\\users\\kaurnavdeep1\\appdata\\local\\programs\\python\\python37\\lib\\site-packages (from tfkit==0.7.21) (1.21.3)\n",
      "Collecting pytorch-crf\n",
      "  Downloading pytorch_crf-0.7.2-py3-none-any.whl (9.5 kB)\n",
      "Requirement already satisfied: matplotlib in c:\\users\\kaurnavdeep1\\appdata\\local\\programs\\python\\python37\\lib\\site-packages (from tfkit==0.7.21) (3.4.3)\n",
      "Collecting flask-cors\n",
      "  Downloading Flask_Cors-3.0.10-py2.py3-none-any.whl (14 kB)\n",
      "Requirement already satisfied: flask in c:\\users\\kaurnavdeep1\\appdata\\local\\programs\\python\\python37\\lib\\site-packages (from nlp2go==0.4.12) (1.1.1)\n",
      "Collecting Flask-Caching\n",
      "  Downloading Flask_Caching-2.0.0-py3-none-any.whl (28 kB)\n",
      "Collecting gevent\n",
      "  Downloading gevent-21.12.0-cp37-cp37m-win_amd64.whl (1.6 MB)\n",
      "     ---------------------------------------- 1.6/1.6 MB 2.3 MB/s eta 0:00:00\n",
      "Requirement already satisfied: colorama in c:\\users\\kaurnavdeep1\\appdata\\local\\programs\\python\\python37\\lib\\site-packages (from tqdm>=4.45.0->tfkit==0.7.21) (0.4.5)\n",
      "Collecting huggingface-hub<1.0,>=0.1.0\n",
      "  Downloading huggingface_hub-0.8.1-py3-none-any.whl (101 kB)\n",
      "     -------------------------------------- 101.5/101.5 kB 1.2 MB/s eta 0:00:00\n",
      "Collecting tokenizers!=0.11.3,<0.13,>=0.11.1\n",
      "  Downloading tokenizers-0.12.1-cp37-cp37m-win_amd64.whl (3.3 MB)\n",
      "     ---------------------------------------- 3.3/3.3 MB 361.1 kB/s eta 0:00:00\n",
      "Requirement already satisfied: pyyaml>=5.1 in c:\\users\\kaurnavdeep1\\appdata\\local\\programs\\python\\python37\\lib\\site-packages (from transformers>=3.3.0->tfkit==0.7.21) (6.0)\n",
      "Requirement already satisfied: filelock in c:\\users\\kaurnavdeep1\\appdata\\local\\programs\\python\\python37\\lib\\site-packages (from transformers>=3.3.0->tfkit==0.7.21) (3.7.1)\n",
      "Requirement already satisfied: requests in c:\\users\\kaurnavdeep1\\appdata\\local\\programs\\python\\python37\\lib\\site-packages (from transformers>=3.3.0->tfkit==0.7.21) (2.28.1)\n",
      "Requirement already satisfied: packaging>=20.0 in c:\\users\\kaurnavdeep1\\appdata\\local\\programs\\python\\python37\\lib\\site-packages (from transformers>=3.3.0->tfkit==0.7.21) (21.3)\n",
      "Requirement already satisfied: importlib-metadata in c:\\users\\kaurnavdeep1\\appdata\\local\\programs\\python\\python37\\lib\\site-packages (from transformers>=3.3.0->tfkit==0.7.21) (4.8.2)\n",
      "Requirement already satisfied: regex!=2019.12.17 in c:\\users\\kaurnavdeep1\\appdata\\local\\programs\\python\\python37\\lib\\site-packages (from transformers>=3.3.0->tfkit==0.7.21) (2022.3.2)\n",
      "Requirement already satisfied: itsdangerous>=0.24 in c:\\users\\kaurnavdeep1\\appdata\\local\\programs\\python\\python37\\lib\\site-packages (from flask->nlp2go==0.4.12) (2.0.1)\n",
      "Requirement already satisfied: click>=5.1 in c:\\users\\kaurnavdeep1\\appdata\\local\\programs\\python\\python37\\lib\\site-packages (from flask->nlp2go==0.4.12) (8.0.4)\n",
      "Requirement already satisfied: Jinja2>=2.10.1 in c:\\users\\kaurnavdeep1\\appdata\\local\\programs\\python\\python37\\lib\\site-packages (from flask->nlp2go==0.4.12) (2.11.3)\n",
      "Requirement already satisfied: Werkzeug>=0.15 in c:\\users\\kaurnavdeep1\\appdata\\local\\programs\\python\\python37\\lib\\site-packages (from flask->nlp2go==0.4.12) (2.0.0)\n",
      "Collecting cachelib>=0.9.0\n",
      "  Downloading cachelib-0.9.0-py3-none-any.whl (15 kB)\n",
      "Requirement already satisfied: Six in c:\\users\\kaurnavdeep1\\appdata\\local\\programs\\python\\python37\\lib\\site-packages (from flask-cors->nlp2go==0.4.12) (1.16.0)\n",
      "Requirement already satisfied: greenlet<2.0,>=1.1.0 in c:\\users\\kaurnavdeep1\\appdata\\local\\programs\\python\\python37\\lib\\site-packages (from gevent->nlp2go==0.4.12) (1.1.2)\n",
      "Requirement already satisfied: setuptools in c:\\users\\kaurnavdeep1\\appdata\\local\\programs\\python\\python37\\lib\\site-packages (from gevent->nlp2go==0.4.12) (63.2.0)\n",
      "Collecting zope.interface\n",
      "  Downloading zope.interface-5.4.0-cp37-cp37m-win_amd64.whl (210 kB)\n",
      "     -------------------------------------- 210.5/210.5 kB 2.6 MB/s eta 0:00:00\n",
      "Collecting zope.event\n",
      "  Downloading zope.event-4.5.0-py2.py3-none-any.whl (6.8 kB)\n",
      "Requirement already satisfied: cffi>=1.12.2 in c:\\users\\kaurnavdeep1\\appdata\\local\\programs\\python\\python37\\lib\\site-packages (from gevent->nlp2go==0.4.12) (1.15.0)\n",
      "Collecting readchar>=3.0.6\n",
      "  Downloading readchar-3.1.0-py3-none-any.whl (6.9 kB)\n",
      "Collecting python-editor>=1.0.4\n",
      "  Downloading python_editor-1.0.4-py3-none-any.whl (4.9 kB)\n",
      "Collecting blessed>=1.19.0\n",
      "  Downloading blessed-1.19.1-py2.py3-none-any.whl (58 kB)\n",
      "     ---------------------------------------- 58.0/58.0 kB 1.5 MB/s eta 0:00:00\n",
      "Requirement already satisfied: pyparsing>=2.2.1 in c:\\users\\kaurnavdeep1\\appdata\\local\\programs\\python\\python37\\lib\\site-packages (from matplotlib->tfkit==0.7.21) (3.0.9)\n",
      "Requirement already satisfied: kiwisolver>=1.0.1 in c:\\users\\kaurnavdeep1\\appdata\\local\\programs\\python\\python37\\lib\\site-packages (from matplotlib->tfkit==0.7.21) (1.3.2)\n",
      "Requirement already satisfied: python-dateutil>=2.7 in c:\\users\\kaurnavdeep1\\appdata\\local\\programs\\python\\python37\\lib\\site-packages (from matplotlib->tfkit==0.7.21) (2.8.2)\n",
      "Requirement already satisfied: cycler>=0.10 in c:\\users\\kaurnavdeep1\\appdata\\local\\programs\\python\\python37\\lib\\site-packages (from matplotlib->tfkit==0.7.21) (0.10.0)\n",
      "Requirement already satisfied: pillow>=6.2.0 in c:\\users\\kaurnavdeep1\\appdata\\local\\programs\\python\\python37\\lib\\site-packages (from matplotlib->tfkit==0.7.21) (8.4.0)\n",
      "Requirement already satisfied: scikit-learn in c:\\users\\kaurnavdeep1\\appdata\\local\\programs\\python\\python37\\lib\\site-packages (from sklearn->tfkit==0.7.21) (0.24.1)\n",
      "Requirement already satisfied: protobuf<=3.20.1,>=3.8.0 in c:\\users\\kaurnavdeep1\\appdata\\local\\programs\\python\\python37\\lib\\site-packages (from tensorboardX->tfkit==0.7.21) (3.19.0)\n",
      "Requirement already satisfied: typing-extensions in c:\\users\\kaurnavdeep1\\appdata\\local\\programs\\python\\python37\\lib\\site-packages (from torch->tfkit==0.7.21) (3.10.0.2)\n",
      "Requirement already satisfied: wcwidth>=0.1.4 in c:\\users\\kaurnavdeep1\\appdata\\local\\programs\\python\\python37\\lib\\site-packages (from blessed>=1.19.0->inquirer->tfkit==0.7.21) (0.2.5)\n",
      "Collecting jinxed>=1.1.0\n",
      "  Downloading jinxed-1.2.0-py2.py3-none-any.whl (33 kB)\n",
      "Requirement already satisfied: pycparser in c:\\users\\kaurnavdeep1\\appdata\\local\\programs\\python\\python37\\lib\\site-packages (from cffi>=1.12.2->gevent->nlp2go==0.4.12) (2.21)\n",
      "Requirement already satisfied: MarkupSafe>=0.23 in c:\\users\\kaurnavdeep1\\appdata\\local\\programs\\python\\python37\\lib\\site-packages (from Jinja2>=2.10.1->flask->nlp2go==0.4.12) (1.1.1)\n",
      "Requirement already satisfied: zipp>=0.5 in c:\\users\\kaurnavdeep1\\appdata\\local\\programs\\python\\python37\\lib\\site-packages (from importlib-metadata->transformers>=3.3.0->tfkit==0.7.21) (3.6.0)\n"
     ]
    },
    {
     "name": "stderr",
     "output_type": "stream",
     "text": [
      "WARNING: Ignoring invalid distribution -treamlit (c:\\users\\kaurnavdeep1\\appdata\\local\\programs\\python\\python37\\lib\\site-packages)\n",
      "WARNING: Ignoring invalid distribution -treamlit (c:\\users\\kaurnavdeep1\\appdata\\local\\programs\\python\\python37\\lib\\site-packages)\n",
      "WARNING: Ignoring invalid distribution -treamlit (c:\\users\\kaurnavdeep1\\appdata\\local\\programs\\python\\python37\\lib\\site-packages)\n",
      "    WARNING: Ignoring invalid distribution -treamlit (c:\\users\\kaurnavdeep1\\appdata\\local\\programs\\python\\python37\\lib\\site-packages)\n",
      "ERROR: Could not install packages due to an OSError: [WinError 5] Access is denied: 'c:\\\\users\\\\kaurnavdeep1\\\\appdata\\\\local\\\\programs\\\\python\\\\python37\\\\lib\\\\site-packages\\\\~okenizers\\\\tokenizers.cp37-win_amd64.pyd'\n",
      "Consider using the `--user` option or check the permissions.\n",
      "\n",
      "WARNING: Ignoring invalid distribution -treamlit (c:\\users\\kaurnavdeep1\\appdata\\local\\programs\\python\\python37\\lib\\site-packages)\n",
      "WARNING: Ignoring invalid distribution -treamlit (c:\\users\\kaurnavdeep1\\appdata\\local\\programs\\python\\python37\\lib\\site-packages)\n",
      "WARNING: Ignoring invalid distribution -treamlit (c:\\users\\kaurnavdeep1\\appdata\\local\\programs\\python\\python37\\lib\\site-packages)\n"
     ]
    },
    {
     "name": "stdout",
     "output_type": "stream",
     "text": [
      "Requirement already satisfied: charset-normalizer<3,>=2 in c:\\users\\kaurnavdeep1\\appdata\\local\\programs\\python\\python37\\lib\\site-packages (from requests->transformers>=3.3.0->tfkit==0.7.21) (2.0.12)\n",
      "Requirement already satisfied: urllib3<1.27,>=1.21.1 in c:\\users\\kaurnavdeep1\\appdata\\local\\programs\\python\\python37\\lib\\site-packages (from requests->transformers>=3.3.0->tfkit==0.7.21) (1.25.11)\n",
      "Requirement already satisfied: certifi>=2017.4.17 in c:\\users\\kaurnavdeep1\\appdata\\local\\programs\\python\\python37\\lib\\site-packages (from requests->transformers>=3.3.0->tfkit==0.7.21) (2021.10.8)\n",
      "Requirement already satisfied: idna<4,>=2.5 in c:\\users\\kaurnavdeep1\\appdata\\local\\programs\\python\\python37\\lib\\site-packages (from requests->transformers>=3.3.0->tfkit==0.7.21) (2.10)\n",
      "Requirement already satisfied: scipy>=0.19.1 in c:\\users\\kaurnavdeep1\\appdata\\local\\programs\\python\\python37\\lib\\site-packages (from scikit-learn->sklearn->tfkit==0.7.21) (1.7.3)\n",
      "Requirement already satisfied: joblib>=0.11 in c:\\users\\kaurnavdeep1\\appdata\\local\\programs\\python\\python37\\lib\\site-packages (from scikit-learn->sklearn->tfkit==0.7.21) (1.1.0)\n",
      "Requirement already satisfied: threadpoolctl>=2.0.0 in c:\\users\\kaurnavdeep1\\appdata\\local\\programs\\python\\python37\\lib\\site-packages (from scikit-learn->sklearn->tfkit==0.7.21) (3.0.0)\n",
      "Collecting ansicon\n",
      "  Downloading ansicon-1.89.0-py2.py3-none-any.whl (63 kB)\n",
      "     ---------------------------------------- 63.7/63.7 kB 1.1 MB/s eta 0:00:00\n",
      "Installing collected packages: tokenizers, readchar, python-editor, nlp2, ansicon, zope.interface, zope.event, tensorboardX, pytorch-crf, jinxed, cachelib, huggingface-hub, gevent, blessed, transformers, inquirer, tfkit, flask-cors, Flask-Caching, nlp2go\n",
      "  Attempting uninstall: tokenizers\n",
      "    Found existing installation: tokenizers 0.8.0rc4\n",
      "    Uninstalling tokenizers-0.8.0rc4:\n",
      "      Successfully uninstalled tokenizers-0.8.0rc4\n"
     ]
    }
   ],
   "source": [
    "!pip install tfkit==0.7.21 nlp2go==0.4.12"
   ]
  },
  {
   "cell_type": "code",
   "execution_count": 28,
   "id": "a876ce86",
   "metadata": {},
   "outputs": [
    {
     "name": "stdout",
     "output_type": "stream",
     "text": [
      "Collecting nlp2go\n",
      "  Downloading nlp2go-0.4.14-py3-none-any.whl (14 kB)\n",
      "Collecting tfkit>=0.7.34\n",
      "  Downloading tfkit-0.8.1-py3-none-any.whl (85 kB)\n",
      "     -------------------------------------- 85.1/85.1 kB 599.1 kB/s eta 0:00:00\n",
      "Collecting Flask-Caching\n",
      "  Using cached Flask_Caching-2.0.0-py3-none-any.whl (28 kB)\n",
      "Collecting nlp2>=1.8.31\n",
      "  Using cached nlp2-1.8.47-py3-none-any.whl (24 kB)\n",
      "Collecting gevent\n",
      "  Using cached gevent-21.12.0-cp37-cp37m-win_amd64.whl (1.6 MB)\n",
      "Collecting flask-cors\n",
      "  Using cached Flask_Cors-3.0.10-py2.py3-none-any.whl (14 kB)\n",
      "Collecting transformers>=3.3.0\n",
      "  Using cached transformers-4.21.0-py3-none-any.whl (4.7 MB)\n",
      "Requirement already satisfied: flask in c:\\users\\kaurnavdeep1\\appdata\\local\\programs\\python\\python37\\lib\\site-packages (from nlp2go) (1.1.1)\n",
      "Collecting inquirer\n",
      "  Using cached inquirer-2.10.0-py3-none-any.whl (17 kB)\n",
      "Collecting tensorboardX\n",
      "  Using cached tensorboardX-2.5.1-py2.py3-none-any.whl (125 kB)\n",
      "Collecting pytorch-crf\n",
      "  Using cached pytorch_crf-0.7.2-py3-none-any.whl (9.5 kB)\n",
      "Collecting accelerate>=0.5.1\n",
      "  Downloading accelerate-0.11.0-py3-none-any.whl (123 kB)\n",
      "     -------------------------------------- 123.1/123.1 kB 1.0 MB/s eta 0:00:00\n",
      "Requirement already satisfied: torch in c:\\users\\kaurnavdeep1\\appdata\\local\\programs\\python\\python37\\lib\\site-packages (from tfkit>=0.7.34->nlp2go) (1.12.0)\n",
      "Requirement already satisfied: sentencepiece in c:\\users\\kaurnavdeep1\\appdata\\local\\programs\\python\\python37\\lib\\site-packages (from tfkit>=0.7.34->nlp2go) (0.1.96)\n",
      "Requirement already satisfied: pandas in c:\\users\\kaurnavdeep1\\appdata\\local\\programs\\python\\python37\\lib\\site-packages (from tfkit>=0.7.34->nlp2go) (1.3.4)\n",
      "Requirement already satisfied: sklearn in c:\\users\\kaurnavdeep1\\appdata\\local\\programs\\python\\python37\\lib\\site-packages (from tfkit>=0.7.34->nlp2go) (0.0)\n",
      "Requirement already satisfied: numpy in c:\\users\\kaurnavdeep1\\appdata\\local\\programs\\python\\python37\\lib\\site-packages (from tfkit>=0.7.34->nlp2go) (1.21.3)\n",
      "Requirement already satisfied: matplotlib in c:\\users\\kaurnavdeep1\\appdata\\local\\programs\\python\\python37\\lib\\site-packages (from tfkit>=0.7.34->nlp2go) (3.4.3)\n",
      "Requirement already satisfied: tqdm>=4.45.0 in c:\\users\\kaurnavdeep1\\appdata\\local\\programs\\python\\python37\\lib\\site-packages (from tfkit>=0.7.34->nlp2go) (4.63.0)\n",
      "Requirement already satisfied: importlib-metadata in c:\\users\\kaurnavdeep1\\appdata\\local\\programs\\python\\python37\\lib\\site-packages (from transformers>=3.3.0->nlp2go) (4.8.2)\n",
      "Requirement already satisfied: tokenizers!=0.11.3,<0.13,>=0.11.1 in c:\\users\\kaurnavdeep1\\appdata\\local\\programs\\python\\python37\\lib\\site-packages (from transformers>=3.3.0->nlp2go) (0.12.1)\n",
      "Requirement already satisfied: pyyaml>=5.1 in c:\\users\\kaurnavdeep1\\appdata\\local\\programs\\python\\python37\\lib\\site-packages (from transformers>=3.3.0->nlp2go) (6.0)\n",
      "Collecting huggingface-hub<1.0,>=0.1.0\n",
      "  Using cached huggingface_hub-0.8.1-py3-none-any.whl (101 kB)\n",
      "Requirement already satisfied: packaging>=20.0 in c:\\users\\kaurnavdeep1\\appdata\\local\\programs\\python\\python37\\lib\\site-packages (from transformers>=3.3.0->nlp2go) (21.3)\n",
      "Requirement already satisfied: regex!=2019.12.17 in c:\\users\\kaurnavdeep1\\appdata\\local\\programs\\python\\python37\\lib\\site-packages (from transformers>=3.3.0->nlp2go) (2022.3.2)\n",
      "Requirement already satisfied: requests in c:\\users\\kaurnavdeep1\\appdata\\local\\programs\\python\\python37\\lib\\site-packages (from transformers>=3.3.0->nlp2go) (2.28.1)\n",
      "Requirement already satisfied: filelock in c:\\users\\kaurnavdeep1\\appdata\\local\\programs\\python\\python37\\lib\\site-packages (from transformers>=3.3.0->nlp2go) (3.7.1)\n",
      "Requirement already satisfied: Jinja2>=2.10.1 in c:\\users\\kaurnavdeep1\\appdata\\local\\programs\\python\\python37\\lib\\site-packages (from flask->nlp2go) (2.11.3)\n",
      "Requirement already satisfied: Werkzeug>=0.15 in c:\\users\\kaurnavdeep1\\appdata\\local\\programs\\python\\python37\\lib\\site-packages (from flask->nlp2go) (2.0.0)\n",
      "Requirement already satisfied: click>=5.1 in c:\\users\\kaurnavdeep1\\appdata\\local\\programs\\python\\python37\\lib\\site-packages (from flask->nlp2go) (8.0.4)\n",
      "Requirement already satisfied: itsdangerous>=0.24 in c:\\users\\kaurnavdeep1\\appdata\\local\\programs\\python\\python37\\lib\\site-packages (from flask->nlp2go) (2.0.1)\n",
      "Collecting cachelib>=0.9.0\n",
      "  Using cached cachelib-0.9.0-py3-none-any.whl (15 kB)\n",
      "Requirement already satisfied: Six in c:\\users\\kaurnavdeep1\\appdata\\local\\programs\\python\\python37\\lib\\site-packages (from flask-cors->nlp2go) (1.16.0)\n",
      "Requirement already satisfied: greenlet<2.0,>=1.1.0 in c:\\users\\kaurnavdeep1\\appdata\\local\\programs\\python\\python37\\lib\\site-packages (from gevent->nlp2go) (1.1.2)\n",
      "Collecting zope.interface\n",
      "  Using cached zope.interface-5.4.0-cp37-cp37m-win_amd64.whl (210 kB)\n",
      "Requirement already satisfied: setuptools in c:\\users\\kaurnavdeep1\\appdata\\local\\programs\\python\\python37\\lib\\site-packages (from gevent->nlp2go) (63.2.0)\n",
      "Requirement already satisfied: cffi>=1.12.2 in c:\\users\\kaurnavdeep1\\appdata\\local\\programs\\python\\python37\\lib\\site-packages (from gevent->nlp2go) (1.15.0)\n",
      "Collecting zope.event\n",
      "  Using cached zope.event-4.5.0-py2.py3-none-any.whl (6.8 kB)\n",
      "Collecting readchar>=3.0.6\n",
      "  Using cached readchar-3.1.0-py3-none-any.whl (6.9 kB)\n",
      "Collecting blessed>=1.19.0\n",
      "  Using cached blessed-1.19.1-py2.py3-none-any.whl (58 kB)\n",
      "Collecting python-editor>=1.0.4\n",
      "  Using cached python_editor-1.0.4-py3-none-any.whl (4.9 kB)\n",
      "Requirement already satisfied: psutil in c:\\users\\kaurnavdeep1\\appdata\\local\\programs\\python\\python37\\lib\\site-packages (from accelerate>=0.5.1->tfkit>=0.7.34->nlp2go) (5.9.0)\n",
      "Requirement already satisfied: wcwidth>=0.1.4 in c:\\users\\kaurnavdeep1\\appdata\\local\\programs\\python\\python37\\lib\\site-packages (from blessed>=1.19.0->inquirer->nlp2go) (0.2.5)\n",
      "Collecting jinxed>=1.1.0\n",
      "  Using cached jinxed-1.2.0-py2.py3-none-any.whl (33 kB)\n",
      "Requirement already satisfied: pycparser in c:\\users\\kaurnavdeep1\\appdata\\local\\programs\\python\\python37\\lib\\site-packages (from cffi>=1.12.2->gevent->nlp2go) (2.21)\n",
      "Requirement already satisfied: colorama in c:\\users\\kaurnavdeep1\\appdata\\local\\programs\\python\\python37\\lib\\site-packages (from click>=5.1->flask->nlp2go) (0.4.5)\n",
      "Requirement already satisfied: typing-extensions>=3.7.4.3 in c:\\users\\kaurnavdeep1\\appdata\\local\\programs\\python\\python37\\lib\\site-packages (from huggingface-hub<1.0,>=0.1.0->transformers>=3.3.0->nlp2go) (3.10.0.2)\n",
      "Requirement already satisfied: MarkupSafe>=0.23 in c:\\users\\kaurnavdeep1\\appdata\\local\\programs\\python\\python37\\lib\\site-packages (from Jinja2>=2.10.1->flask->nlp2go) (1.1.1)\n",
      "Requirement already satisfied: pyparsing!=3.0.5,>=2.0.2 in c:\\users\\kaurnavdeep1\\appdata\\local\\programs\\python\\python37\\lib\\site-packages (from packaging>=20.0->transformers>=3.3.0->nlp2go) (3.0.9)\n",
      "Requirement already satisfied: zipp>=0.5 in c:\\users\\kaurnavdeep1\\appdata\\local\\programs\\python\\python37\\lib\\site-packages (from importlib-metadata->transformers>=3.3.0->nlp2go) (3.6.0)\n",
      "Requirement already satisfied: kiwisolver>=1.0.1 in c:\\users\\kaurnavdeep1\\appdata\\local\\programs\\python\\python37\\lib\\site-packages (from matplotlib->tfkit>=0.7.34->nlp2go) (1.3.2)\n",
      "Requirement already satisfied: pillow>=6.2.0 in c:\\users\\kaurnavdeep1\\appdata\\local\\programs\\python\\python37\\lib\\site-packages (from matplotlib->tfkit>=0.7.34->nlp2go) (8.4.0)\n",
      "Requirement already satisfied: python-dateutil>=2.7 in c:\\users\\kaurnavdeep1\\appdata\\local\\programs\\python\\python37\\lib\\site-packages (from matplotlib->tfkit>=0.7.34->nlp2go) (2.8.2)\n",
      "Requirement already satisfied: cycler>=0.10 in c:\\users\\kaurnavdeep1\\appdata\\local\\programs\\python\\python37\\lib\\site-packages (from matplotlib->tfkit>=0.7.34->nlp2go) (0.10.0)\n",
      "Requirement already satisfied: pytz>=2017.3 in c:\\users\\kaurnavdeep1\\appdata\\local\\programs\\python\\python37\\lib\\site-packages (from pandas->tfkit>=0.7.34->nlp2go) (2021.3)\n",
      "Requirement already satisfied: urllib3<1.27,>=1.21.1 in c:\\users\\kaurnavdeep1\\appdata\\local\\programs\\python\\python37\\lib\\site-packages (from requests->transformers>=3.3.0->nlp2go) (1.25.11)\n",
      "Requirement already satisfied: certifi>=2017.4.17 in c:\\users\\kaurnavdeep1\\appdata\\local\\programs\\python\\python37\\lib\\site-packages (from requests->transformers>=3.3.0->nlp2go) (2021.10.8)\n",
      "Requirement already satisfied: charset-normalizer<3,>=2 in c:\\users\\kaurnavdeep1\\appdata\\local\\programs\\python\\python37\\lib\\site-packages (from requests->transformers>=3.3.0->nlp2go) (2.0.12)\n",
      "Requirement already satisfied: idna<4,>=2.5 in c:\\users\\kaurnavdeep1\\appdata\\local\\programs\\python\\python37\\lib\\site-packages (from requests->transformers>=3.3.0->nlp2go) (2.10)\n",
      "Requirement already satisfied: scikit-learn in c:\\users\\kaurnavdeep1\\appdata\\local\\programs\\python\\python37\\lib\\site-packages (from sklearn->tfkit>=0.7.34->nlp2go) (0.24.1)\n",
      "Requirement already satisfied: protobuf<=3.20.1,>=3.8.0 in c:\\users\\kaurnavdeep1\\appdata\\local\\programs\\python\\python37\\lib\\site-packages (from tensorboardX->tfkit>=0.7.34->nlp2go) (3.19.0)\n",
      "Collecting ansicon\n",
      "  Using cached ansicon-1.89.0-py2.py3-none-any.whl (63 kB)\n",
      "Requirement already satisfied: threadpoolctl>=2.0.0 in c:\\users\\kaurnavdeep1\\appdata\\local\\programs\\python\\python37\\lib\\site-packages (from scikit-learn->sklearn->tfkit>=0.7.34->nlp2go) (3.0.0)\n",
      "Requirement already satisfied: joblib>=0.11 in c:\\users\\kaurnavdeep1\\appdata\\local\\programs\\python\\python37\\lib\\site-packages (from scikit-learn->sklearn->tfkit>=0.7.34->nlp2go) (1.1.0)\n",
      "Requirement already satisfied: scipy>=0.19.1 in c:\\users\\kaurnavdeep1\\appdata\\local\\programs\\python\\python37\\lib\\site-packages (from scikit-learn->sklearn->tfkit>=0.7.34->nlp2go) (1.7.3)\n",
      "Installing collected packages: readchar, python-editor, nlp2, ansicon, zope.interface, zope.event, tensorboardX, pytorch-crf, jinxed, cachelib, huggingface-hub, gevent, blessed, accelerate, transformers, inquirer, tfkit, flask-cors, Flask-Caching, nlp2go\n",
      "  Attempting uninstall: transformers\n",
      "    Found existing installation: transformers 3.0.0\n",
      "    Uninstalling transformers-3.0.0:\n",
      "      Successfully uninstalled transformers-3.0.0\n",
      "Successfully installed Flask-Caching-2.0.0 accelerate-0.11.0 ansicon-1.89.0 blessed-1.19.1 cachelib-0.9.0 flask-cors-3.0.10 gevent-21.12.0 huggingface-hub-0.8.1 inquirer-2.10.0 jinxed-1.2.0 nlp2-1.8.47 nlp2go-0.4.14 python-editor-1.0.4 pytorch-crf-0.7.2 readchar-3.1.0 tensorboardX-2.5.1 tfkit-0.8.1 transformers-4.21.0 zope.event-4.5.0 zope.interface-5.4.0\n"
     ]
    },
    {
     "name": "stderr",
     "output_type": "stream",
     "text": [
      "WARNING: Ignoring invalid distribution -treamlit (c:\\users\\kaurnavdeep1\\appdata\\local\\programs\\python\\python37\\lib\\site-packages)\n",
      "WARNING: Ignoring invalid distribution -treamlit (c:\\users\\kaurnavdeep1\\appdata\\local\\programs\\python\\python37\\lib\\site-packages)\n",
      "WARNING: Ignoring invalid distribution -treamlit (c:\\users\\kaurnavdeep1\\appdata\\local\\programs\\python\\python37\\lib\\site-packages)\n",
      "    WARNING: Ignoring invalid distribution -treamlit (c:\\users\\kaurnavdeep1\\appdata\\local\\programs\\python\\python37\\lib\\site-packages)\n",
      "WARNING: Ignoring invalid distribution -treamlit (c:\\users\\kaurnavdeep1\\appdata\\local\\programs\\python\\python37\\lib\\site-packages)\n",
      "WARNING: Ignoring invalid distribution -treamlit (c:\\users\\kaurnavdeep1\\appdata\\local\\programs\\python\\python37\\lib\\site-packages)\n",
      "WARNING: Ignoring invalid distribution -treamlit (c:\\users\\kaurnavdeep1\\appdata\\local\\programs\\python\\python37\\lib\\site-packages)\n",
      "WARNING: Ignoring invalid distribution -treamlit (c:\\users\\kaurnavdeep1\\appdata\\local\\programs\\python\\python37\\lib\\site-packages)\n",
      "WARNING: Ignoring invalid distribution -treamlit (c:\\users\\kaurnavdeep1\\appdata\\local\\programs\\python\\python37\\lib\\site-packages)\n",
      "WARNING: Ignoring invalid distribution -treamlit (c:\\users\\kaurnavdeep1\\appdata\\local\\programs\\python\\python37\\lib\\site-packages)\n",
      "WARNING: Ignoring invalid distribution -treamlit (c:\\users\\kaurnavdeep1\\appdata\\local\\programs\\python\\python37\\lib\\site-packages)\n",
      "WARNING: Ignoring invalid distribution -treamlit (c:\\users\\kaurnavdeep1\\appdata\\local\\programs\\python\\python37\\lib\\site-packages)\n",
      "WARNING: Ignoring invalid distribution -treamlit (c:\\users\\kaurnavdeep1\\appdata\\local\\programs\\python\\python37\\lib\\site-packages)\n",
      "WARNING: Ignoring invalid distribution -treamlit (c:\\users\\kaurnavdeep1\\appdata\\local\\programs\\python\\python37\\lib\\site-packages)\n",
      "WARNING: Ignoring invalid distribution -treamlit (c:\\users\\kaurnavdeep1\\appdata\\local\\programs\\python\\python37\\lib\\site-packages)\n",
      "WARNING: Ignoring invalid distribution -treamlit (c:\\users\\kaurnavdeep1\\appdata\\local\\programs\\python\\python37\\lib\\site-packages)\n",
      "WARNING: Ignoring invalid distribution -treamlit (c:\\users\\kaurnavdeep1\\appdata\\local\\programs\\python\\python37\\lib\\site-packages)\n",
      "WARNING: Ignoring invalid distribution -treamlit (c:\\users\\kaurnavdeep1\\appdata\\local\\programs\\python\\python37\\lib\\site-packages)\n",
      "WARNING: Ignoring invalid distribution -treamlit (c:\\users\\kaurnavdeep1\\appdata\\local\\programs\\python\\python37\\lib\\site-packages)\n",
      "WARNING: Ignoring invalid distribution -treamlit (c:\\users\\kaurnavdeep1\\appdata\\local\\programs\\python\\python37\\lib\\site-packages)\n",
      "WARNING: Ignoring invalid distribution -treamlit (c:\\users\\kaurnavdeep1\\appdata\\local\\programs\\python\\python37\\lib\\site-packages)\n",
      "WARNING: Ignoring invalid distribution -treamlit (c:\\users\\kaurnavdeep1\\appdata\\local\\programs\\python\\python37\\lib\\site-packages)\n",
      "WARNING: Ignoring invalid distribution -treamlit (c:\\users\\kaurnavdeep1\\appdata\\local\\programs\\python\\python37\\lib\\site-packages)\n",
      "WARNING: Ignoring invalid distribution -treamlit (c:\\users\\kaurnavdeep1\\appdata\\local\\programs\\python\\python37\\lib\\site-packages)\n",
      "WARNING: Ignoring invalid distribution -treamlit (c:\\users\\kaurnavdeep1\\appdata\\local\\programs\\python\\python37\\lib\\site-packages)\n",
      "WARNING: Ignoring invalid distribution -treamlit (c:\\users\\kaurnavdeep1\\appdata\\local\\programs\\python\\python37\\lib\\site-packages)\n",
      "WARNING: Ignoring invalid distribution -treamlit (c:\\users\\kaurnavdeep1\\appdata\\local\\programs\\python\\python37\\lib\\site-packages)\n",
      "c:\\users\\kaurnavdeep1\\appdata\\local\\programs\\python\\python37\\lib\\site-packages\\blessed\\terminal.py:186: UserWarning: Failed to setupterm(kind='xterm-color'): Could not find terminal xterm-color\n",
      "  warnings.warn(msg)\n"
     ]
    }
   ],
   "source": [
    "!pip install nlp2go\n",
    "import nlp2go"
   ]
  },
  {
   "cell_type": "code",
   "execution_count": 30,
   "id": "f4e11287",
   "metadata": {},
   "outputs": [
    {
     "name": "stdout",
     "output_type": "stream",
     "text": [
      "Select model task: , input an item in the list ['audio-classification', 'automatic-speech-recognition', 'feature-extraction', 'text-classification', 'token-classification', 'question-answering', 'table-question-answering', 'visual-question-answering', 'fill-mask', 'summarization', 'translation', 'text2text-generation', 'text-generation', 'zero-shot-classification', 'zero-shot-image-classification', 'conversational', 'image-classification', 'image-segmentation', 'object-detection'], [default={}]: text2text-generation\n"
     ]
    },
    {
     "ename": "OSError",
     "evalue": "./BDG_PM.pt is not a local folder and is not a valid model identifier listed on 'https://huggingface.co/models'\nIf this is a private repository, make sure to pass a token having permission to this repo with `use_auth_token` or log in with `huggingface-cli login` and pass `use_auth_token=True`.",
     "output_type": "error",
     "traceback": [
      "\u001b[1;31m---------------------------------------------------------------------------\u001b[0m",
      "\u001b[1;31mRepositoryNotFoundError\u001b[0m                   Traceback (most recent call last)",
      "\u001b[1;32mc:\\users\\kaurnavdeep1\\appdata\\local\\programs\\python\\python37\\lib\\site-packages\\transformers\\utils\\hub.py\u001b[0m in \u001b[0;36mget_file_from_repo\u001b[1;34m(path_or_repo, filename, cache_dir, force_download, resume_download, proxies, use_auth_token, revision, local_files_only)\u001b[0m\n\u001b[0;32m    710\u001b[0m             \u001b[0mlocal_files_only\u001b[0m\u001b[1;33m=\u001b[0m\u001b[0mlocal_files_only\u001b[0m\u001b[1;33m,\u001b[0m\u001b[1;33m\u001b[0m\u001b[1;33m\u001b[0m\u001b[0m\n\u001b[1;32m--> 711\u001b[1;33m             \u001b[0muse_auth_token\u001b[0m\u001b[1;33m=\u001b[0m\u001b[0muse_auth_token\u001b[0m\u001b[1;33m,\u001b[0m\u001b[1;33m\u001b[0m\u001b[1;33m\u001b[0m\u001b[0m\n\u001b[0m\u001b[0;32m    712\u001b[0m         )\n",
      "\u001b[1;32mc:\\users\\kaurnavdeep1\\appdata\\local\\programs\\python\\python37\\lib\\site-packages\\transformers\\utils\\hub.py\u001b[0m in \u001b[0;36mcached_path\u001b[1;34m(url_or_filename, cache_dir, force_download, proxies, resume_download, user_agent, extract_compressed_file, force_extract, use_auth_token, local_files_only)\u001b[0m\n\u001b[0;32m    291\u001b[0m             \u001b[0muse_auth_token\u001b[0m\u001b[1;33m=\u001b[0m\u001b[0muse_auth_token\u001b[0m\u001b[1;33m,\u001b[0m\u001b[1;33m\u001b[0m\u001b[1;33m\u001b[0m\u001b[0m\n\u001b[1;32m--> 292\u001b[1;33m             \u001b[0mlocal_files_only\u001b[0m\u001b[1;33m=\u001b[0m\u001b[0mlocal_files_only\u001b[0m\u001b[1;33m,\u001b[0m\u001b[1;33m\u001b[0m\u001b[1;33m\u001b[0m\u001b[0m\n\u001b[0m\u001b[0;32m    293\u001b[0m         )\n",
      "\u001b[1;32mc:\\users\\kaurnavdeep1\\appdata\\local\\programs\\python\\python37\\lib\\site-packages\\transformers\\utils\\hub.py\u001b[0m in \u001b[0;36mget_from_cache\u001b[1;34m(url, cache_dir, force_download, proxies, etag_timeout, resume_download, user_agent, use_auth_token, local_files_only)\u001b[0m\n\u001b[0;32m    501\u001b[0m             \u001b[0mr\u001b[0m \u001b[1;33m=\u001b[0m \u001b[0mrequests\u001b[0m\u001b[1;33m.\u001b[0m\u001b[0mhead\u001b[0m\u001b[1;33m(\u001b[0m\u001b[0murl\u001b[0m\u001b[1;33m,\u001b[0m \u001b[0mheaders\u001b[0m\u001b[1;33m=\u001b[0m\u001b[0mheaders\u001b[0m\u001b[1;33m,\u001b[0m \u001b[0mallow_redirects\u001b[0m\u001b[1;33m=\u001b[0m\u001b[1;32mFalse\u001b[0m\u001b[1;33m,\u001b[0m \u001b[0mproxies\u001b[0m\u001b[1;33m=\u001b[0m\u001b[0mproxies\u001b[0m\u001b[1;33m,\u001b[0m \u001b[0mtimeout\u001b[0m\u001b[1;33m=\u001b[0m\u001b[0metag_timeout\u001b[0m\u001b[1;33m)\u001b[0m\u001b[1;33m\u001b[0m\u001b[1;33m\u001b[0m\u001b[0m\n\u001b[1;32m--> 502\u001b[1;33m             \u001b[0m_raise_for_status\u001b[0m\u001b[1;33m(\u001b[0m\u001b[0mr\u001b[0m\u001b[1;33m)\u001b[0m\u001b[1;33m\u001b[0m\u001b[1;33m\u001b[0m\u001b[0m\n\u001b[0m\u001b[0;32m    503\u001b[0m             \u001b[0metag\u001b[0m \u001b[1;33m=\u001b[0m \u001b[0mr\u001b[0m\u001b[1;33m.\u001b[0m\u001b[0mheaders\u001b[0m\u001b[1;33m.\u001b[0m\u001b[0mget\u001b[0m\u001b[1;33m(\u001b[0m\u001b[1;34m\"X-Linked-Etag\"\u001b[0m\u001b[1;33m)\u001b[0m \u001b[1;32mor\u001b[0m \u001b[0mr\u001b[0m\u001b[1;33m.\u001b[0m\u001b[0mheaders\u001b[0m\u001b[1;33m.\u001b[0m\u001b[0mget\u001b[0m\u001b[1;33m(\u001b[0m\u001b[1;34m\"ETag\"\u001b[0m\u001b[1;33m)\u001b[0m\u001b[1;33m\u001b[0m\u001b[1;33m\u001b[0m\u001b[0m\n",
      "\u001b[1;32mc:\\users\\kaurnavdeep1\\appdata\\local\\programs\\python\\python37\\lib\\site-packages\\transformers\\utils\\hub.py\u001b[0m in \u001b[0;36m_raise_for_status\u001b[1;34m(response)\u001b[0m\n\u001b[0;32m    417\u001b[0m         raise RepositoryNotFoundError(\n\u001b[1;32m--> 418\u001b[1;33m             \u001b[1;34mf\"401 Client Error: Repository not found for url: {response.url}. \"\u001b[0m\u001b[1;33m\u001b[0m\u001b[1;33m\u001b[0m\u001b[0m\n\u001b[0m\u001b[0;32m    419\u001b[0m             \u001b[1;34m\"If the repo is private, make sure you are authenticated.\"\u001b[0m\u001b[1;33m\u001b[0m\u001b[1;33m\u001b[0m\u001b[0m\n",
      "\u001b[1;31mRepositoryNotFoundError\u001b[0m: 401 Client Error: Repository not found for url: https://huggingface.co/BDG_PM.pt/resolve/main/tokenizer_config.json. If the repo is private, make sure you are authenticated.",
      "\nDuring handling of the above exception, another exception occurred:\n",
      "\u001b[1;31mOSError\u001b[0m                                   Traceback (most recent call last)",
      "\u001b[1;32mC:\\Users\\KAURNA~1\\AppData\\Local\\Temp/ipykernel_20956/3963373350.py\u001b[0m in \u001b[0;36m<module>\u001b[1;34m\u001b[0m\n\u001b[1;32m----> 1\u001b[1;33m \u001b[0mbdg_pm_model\u001b[0m \u001b[1;33m=\u001b[0m \u001b[0mnlp2go\u001b[0m\u001b[1;33m.\u001b[0m\u001b[0mModel\u001b[0m\u001b[1;33m(\u001b[0m\u001b[1;34m'./BDG_PM.pt'\u001b[0m\u001b[1;33m)\u001b[0m\u001b[1;33m\u001b[0m\u001b[1;33m\u001b[0m\u001b[0m\n\u001b[0m",
      "\u001b[1;32mc:\\users\\kaurnavdeep1\\appdata\\local\\programs\\python\\python37\\lib\\site-packages\\nlp2go\\model.py\u001b[0m in \u001b[0;36m__init__\u001b[1;34m(self, model_path, panel, **param)\u001b[0m\n\u001b[0;32m     20\u001b[0m         \u001b[1;32melse\u001b[0m\u001b[1;33m:\u001b[0m  \u001b[1;31m# huggingface's transfromers model - local model saved in dir, online model name without tfkit tag\u001b[0m\u001b[1;33m\u001b[0m\u001b[1;33m\u001b[0m\u001b[0m\n\u001b[0;32m     21\u001b[0m             \u001b[0mself\u001b[0m\u001b[1;33m.\u001b[0m\u001b[0mlib\u001b[0m \u001b[1;33m=\u001b[0m \u001b[1;34m'hf'\u001b[0m\u001b[1;33m\u001b[0m\u001b[1;33m\u001b[0m\u001b[0m\n\u001b[1;32m---> 22\u001b[1;33m             \u001b[0mself\u001b[0m\u001b[1;33m.\u001b[0m\u001b[0mmodel\u001b[0m\u001b[1;33m,\u001b[0m \u001b[0mself\u001b[0m\u001b[1;33m.\u001b[0m\u001b[0mpredict_parameter\u001b[0m\u001b[1;33m,\u001b[0m \u001b[0mself\u001b[0m\u001b[1;33m.\u001b[0m\u001b[0mmodel_task\u001b[0m \u001b[1;33m=\u001b[0m \u001b[0mself\u001b[0m\u001b[1;33m.\u001b[0m\u001b[0mload_huggingface_model\u001b[0m\u001b[1;33m(\u001b[0m\u001b[0mmodel_path\u001b[0m\u001b[1;33m,\u001b[0m \u001b[1;33m**\u001b[0m\u001b[0mparam\u001b[0m\u001b[1;33m)\u001b[0m\u001b[1;33m\u001b[0m\u001b[1;33m\u001b[0m\u001b[0m\n\u001b[0m\u001b[0;32m     23\u001b[0m             \u001b[0mself\u001b[0m\u001b[1;33m.\u001b[0m\u001b[0mpredict_func\u001b[0m \u001b[1;33m=\u001b[0m \u001b[0mself\u001b[0m\u001b[1;33m.\u001b[0m\u001b[0mmodel\u001b[0m\u001b[1;33m\u001b[0m\u001b[1;33m\u001b[0m\u001b[0m\n\u001b[0;32m     24\u001b[0m         \u001b[0mself\u001b[0m\u001b[1;33m.\u001b[0m\u001b[0mparser\u001b[0m \u001b[1;33m=\u001b[0m \u001b[0mParser\u001b[0m\u001b[1;33m(\u001b[0m\u001b[0mself\u001b[0m\u001b[1;33m.\u001b[0m\u001b[0mmodel_task\u001b[0m\u001b[1;33m,\u001b[0m \u001b[0mself\u001b[0m\u001b[1;33m.\u001b[0m\u001b[0mpredict_func\u001b[0m\u001b[1;33m,\u001b[0m \u001b[0mself\u001b[0m\u001b[1;33m.\u001b[0m\u001b[0mmodel\u001b[0m\u001b[1;33m.\u001b[0m\u001b[0mtokenizer\u001b[0m\u001b[1;33m)\u001b[0m\u001b[1;33m\u001b[0m\u001b[1;33m\u001b[0m\u001b[0m\n",
      "\u001b[1;32mc:\\users\\kaurnavdeep1\\appdata\\local\\programs\\python\\python37\\lib\\site-packages\\nlp2go\\model.py\u001b[0m in \u001b[0;36mload_huggingface_model\u001b[1;34m(self, model_path, **param)\u001b[0m\n\u001b[0;32m     38\u001b[0m         \u001b[0mparam\u001b[0m\u001b[1;33m[\u001b[0m\u001b[1;34m'model'\u001b[0m\u001b[1;33m]\u001b[0m \u001b[1;33m=\u001b[0m \u001b[0mmodel_path\u001b[0m\u001b[1;33m\u001b[0m\u001b[1;33m\u001b[0m\u001b[0m\n\u001b[0;32m     39\u001b[0m         \u001b[0mparam\u001b[0m\u001b[1;33m[\u001b[0m\u001b[1;34m'tokenizer'\u001b[0m\u001b[1;33m]\u001b[0m \u001b[1;33m=\u001b[0m \u001b[0mBertTokenizer\u001b[0m\u001b[1;33m.\u001b[0m\u001b[0mfrom_pretrained\u001b[0m\u001b[1;33m(\u001b[0m\u001b[0mmodel_path\u001b[0m\u001b[1;33m)\u001b[0m \u001b[1;32mif\u001b[0m \u001b[1;34m'voidful/albert_chinese'\u001b[0m \u001b[1;32min\u001b[0m \u001b[0mmodel_path\u001b[0m\u001b[0;31m \u001b[0m\u001b[0;31m\\\u001b[0m\u001b[1;33m\u001b[0m\u001b[1;33m\u001b[0m\u001b[0m\n\u001b[1;32m---> 40\u001b[1;33m             \u001b[1;32melse\u001b[0m \u001b[0mAutoTokenizer\u001b[0m\u001b[1;33m.\u001b[0m\u001b[0mfrom_pretrained\u001b[0m\u001b[1;33m(\u001b[0m\u001b[0mmodel_path\u001b[0m\u001b[1;33m)\u001b[0m\u001b[1;33m\u001b[0m\u001b[1;33m\u001b[0m\u001b[0m\n\u001b[0m\u001b[0;32m     41\u001b[0m         \u001b[0mpipeline_param\u001b[0m\u001b[1;33m,\u001b[0m \u001b[0m_\u001b[0m \u001b[1;33m=\u001b[0m \u001b[0mnlp2\u001b[0m\u001b[1;33m.\u001b[0m\u001b[0mfunction_sep_suit_arg\u001b[0m\u001b[1;33m(\u001b[0m\u001b[0mpipeline\u001b[0m\u001b[1;33m,\u001b[0m \u001b[0mparam\u001b[0m\u001b[1;33m)\u001b[0m\u001b[1;33m\u001b[0m\u001b[1;33m\u001b[0m\u001b[0m\n\u001b[0;32m     42\u001b[0m         \u001b[0mnlp\u001b[0m \u001b[1;33m=\u001b[0m \u001b[0mpipeline\u001b[0m\u001b[1;33m(\u001b[0m\u001b[1;33m**\u001b[0m\u001b[0mpipeline_param\u001b[0m\u001b[1;33m)\u001b[0m\u001b[1;33m\u001b[0m\u001b[1;33m\u001b[0m\u001b[0m\n",
      "\u001b[1;32mc:\\users\\kaurnavdeep1\\appdata\\local\\programs\\python\\python37\\lib\\site-packages\\transformers\\models\\auto\\tokenization_auto.py\u001b[0m in \u001b[0;36mfrom_pretrained\u001b[1;34m(cls, pretrained_model_name_or_path, *inputs, **kwargs)\u001b[0m\n\u001b[0;32m    532\u001b[0m \u001b[1;33m\u001b[0m\u001b[0m\n\u001b[0;32m    533\u001b[0m         \u001b[1;31m# Next, let's try to use the tokenizer_config file to get the tokenizer class.\u001b[0m\u001b[1;33m\u001b[0m\u001b[1;33m\u001b[0m\u001b[1;33m\u001b[0m\u001b[0m\n\u001b[1;32m--> 534\u001b[1;33m         \u001b[0mtokenizer_config\u001b[0m \u001b[1;33m=\u001b[0m \u001b[0mget_tokenizer_config\u001b[0m\u001b[1;33m(\u001b[0m\u001b[0mpretrained_model_name_or_path\u001b[0m\u001b[1;33m,\u001b[0m \u001b[1;33m**\u001b[0m\u001b[0mkwargs\u001b[0m\u001b[1;33m)\u001b[0m\u001b[1;33m\u001b[0m\u001b[1;33m\u001b[0m\u001b[0m\n\u001b[0m\u001b[0;32m    535\u001b[0m         \u001b[0mconfig_tokenizer_class\u001b[0m \u001b[1;33m=\u001b[0m \u001b[0mtokenizer_config\u001b[0m\u001b[1;33m.\u001b[0m\u001b[0mget\u001b[0m\u001b[1;33m(\u001b[0m\u001b[1;34m\"tokenizer_class\"\u001b[0m\u001b[1;33m)\u001b[0m\u001b[1;33m\u001b[0m\u001b[1;33m\u001b[0m\u001b[0m\n\u001b[0;32m    536\u001b[0m         \u001b[0mtokenizer_auto_map\u001b[0m \u001b[1;33m=\u001b[0m \u001b[1;32mNone\u001b[0m\u001b[1;33m\u001b[0m\u001b[1;33m\u001b[0m\u001b[0m\n",
      "\u001b[1;32mc:\\users\\kaurnavdeep1\\appdata\\local\\programs\\python\\python37\\lib\\site-packages\\transformers\\models\\auto\\tokenization_auto.py\u001b[0m in \u001b[0;36mget_tokenizer_config\u001b[1;34m(pretrained_model_name_or_path, cache_dir, force_download, resume_download, proxies, use_auth_token, revision, local_files_only, **kwargs)\u001b[0m\n\u001b[0;32m    399\u001b[0m         \u001b[0muse_auth_token\u001b[0m\u001b[1;33m=\u001b[0m\u001b[0muse_auth_token\u001b[0m\u001b[1;33m,\u001b[0m\u001b[1;33m\u001b[0m\u001b[1;33m\u001b[0m\u001b[0m\n\u001b[0;32m    400\u001b[0m         \u001b[0mrevision\u001b[0m\u001b[1;33m=\u001b[0m\u001b[0mrevision\u001b[0m\u001b[1;33m,\u001b[0m\u001b[1;33m\u001b[0m\u001b[1;33m\u001b[0m\u001b[0m\n\u001b[1;32m--> 401\u001b[1;33m         \u001b[0mlocal_files_only\u001b[0m\u001b[1;33m=\u001b[0m\u001b[0mlocal_files_only\u001b[0m\u001b[1;33m,\u001b[0m\u001b[1;33m\u001b[0m\u001b[1;33m\u001b[0m\u001b[0m\n\u001b[0m\u001b[0;32m    402\u001b[0m     )\n\u001b[0;32m    403\u001b[0m     \u001b[1;32mif\u001b[0m \u001b[0mresolved_config_file\u001b[0m \u001b[1;32mis\u001b[0m \u001b[1;32mNone\u001b[0m\u001b[1;33m:\u001b[0m\u001b[1;33m\u001b[0m\u001b[1;33m\u001b[0m\u001b[0m\n",
      "\u001b[1;32mc:\\users\\kaurnavdeep1\\appdata\\local\\programs\\python\\python37\\lib\\site-packages\\transformers\\utils\\hub.py\u001b[0m in \u001b[0;36mget_file_from_repo\u001b[1;34m(path_or_repo, filename, cache_dir, force_download, resume_download, proxies, use_auth_token, revision, local_files_only)\u001b[0m\n\u001b[0;32m    714\u001b[0m     \u001b[1;32mexcept\u001b[0m \u001b[0mRepositoryNotFoundError\u001b[0m\u001b[1;33m:\u001b[0m\u001b[1;33m\u001b[0m\u001b[1;33m\u001b[0m\u001b[0m\n\u001b[0;32m    715\u001b[0m         raise EnvironmentError(\n\u001b[1;32m--> 716\u001b[1;33m             \u001b[1;34mf\"{path_or_repo} is not a local folder and is not a valid model identifier \"\u001b[0m\u001b[1;33m\u001b[0m\u001b[1;33m\u001b[0m\u001b[0m\n\u001b[0m\u001b[0;32m    717\u001b[0m             \u001b[1;34m\"listed on 'https://huggingface.co/models'\\nIf this is a private repository, make sure to \"\u001b[0m\u001b[1;33m\u001b[0m\u001b[1;33m\u001b[0m\u001b[0m\n\u001b[0;32m    718\u001b[0m             \u001b[1;34m\"pass a token having permission to this repo with `use_auth_token` or log in with \"\u001b[0m\u001b[1;33m\u001b[0m\u001b[1;33m\u001b[0m\u001b[0m\n",
      "\u001b[1;31mOSError\u001b[0m: ./BDG_PM.pt is not a local folder and is not a valid model identifier listed on 'https://huggingface.co/models'\nIf this is a private repository, make sure to pass a token having permission to this repo with `use_auth_token` or log in with `huggingface-cli login` and pass `use_auth_token=True`."
     ]
    }
   ],
   "source": [
    "bdg_pm_model = nlp2go.Model('./BDG_PM.pt')"
   ]
  },
  {
   "cell_type": "code",
   "execution_count": null,
   "id": "deccd5f6",
   "metadata": {},
   "outputs": [],
   "source": [
    "input_json = {\n",
    "    \"input\": \"\"\"When you ' re having a holiday , one of the main questions to ask is which hotel or apartment to choose . However , when it comes to France , you have another special choice : treehouses . In France , treehouses are offered to travelers as a new choice in many places . The price may be a little higher , but you do have a chance to _ your childhood memories . Alain Laurens , one of France ' s top treehouse designers , said , \" Most of the people might have the experience of building a den when they were young . And they like that feeling of freedom when they are children . \" Its fairy - tale style gives travelers a special feeling . It seems as if they are living as a forest king and enjoying the fresh air in the morning . Another kind of treehouse is the \" star cube \" . It gives travelers the chance of looking at the stars shining in the sky when they are going to sleep . Each \" star cube \" not only offers all the comfortable things that a hotel provides for travelers , but also gives them a chance to look for stars by using a telescope . The glass roof allows you to look at the stars from your bed . [SEP] The passage mainly tells us [SEP] treehouses in france.\"\"\"\n",
    "}"
   ]
  },
  {
   "cell_type": "code",
   "execution_count": null,
   "id": "f1d14617",
   "metadata": {},
   "outputs": [],
   "source": [
    "bdg_pm_model.predict(input_json)"
   ]
  },
  {
   "cell_type": "code",
   "execution_count": null,
   "id": "e6377198",
   "metadata": {},
   "outputs": [],
   "source": []
  }
 ],
 "metadata": {
  "kernelspec": {
   "display_name": "Python 3 (ipykernel)",
   "language": "python",
   "name": "python3"
  },
  "language_info": {
   "codemirror_mode": {
    "name": "ipython",
    "version": 3
   },
   "file_extension": ".py",
   "mimetype": "text/x-python",
   "name": "python",
   "nbconvert_exporter": "python",
   "pygments_lexer": "ipython3",
   "version": "3.7.6"
  }
 },
 "nbformat": 4,
 "nbformat_minor": 5
}
